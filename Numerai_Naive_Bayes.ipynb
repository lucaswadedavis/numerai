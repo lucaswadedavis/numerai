{
 "cells": [
  {
   "cell_type": "code",
   "execution_count": 3,
   "metadata": {
    "collapsed": false
   },
   "outputs": [],
   "source": [
    "import numpy as np\n",
    "import pandas as pd\n",
    "import csv\n",
    "\n",
    "from sklearn.naive_bayes import GaussianNB\n"
   ]
  },
  {
   "cell_type": "code",
   "execution_count": 4,
   "metadata": {
    "collapsed": true
   },
   "outputs": [],
   "source": [
    "training_data_source = \"numerai_training_data.csv\"\n",
    "tournament_data_source = \"numerai_tournament_data.csv\""
   ]
  },
  {
   "cell_type": "code",
   "execution_count": 5,
   "metadata": {
    "collapsed": false,
    "scrolled": true
   },
   "outputs": [],
   "source": [
    "df = pd.read_csv(training_data_source, header = 0)\n",
    "\n",
    "# remove the non-numeric columns\n",
    "df = df._get_numeric_data()\n",
    "\n",
    "# create a numpy array with the numeric values for input into scikit-learn\n",
    "numpy_array = df.as_matrix()"
   ]
  },
  {
   "cell_type": "code",
   "execution_count": 6,
   "metadata": {
    "collapsed": false
   },
   "outputs": [
    {
     "data": {
      "text/plain": [
       "0.74528507576583447"
      ]
     },
     "execution_count": 6,
     "metadata": {},
     "output_type": "execute_result"
    }
   ],
   "source": [
    "training_data_x = []\n",
    "training_data_y = []\n",
    "test_data_x = []\n",
    "test_data_y = []\n",
    "\n",
    "for dat in numpy_array:\n",
    "    # this is the training list of values\n",
    "    training_data_x.append(dat[:14])\n",
    "    # this is the 1 or 0 classification\n",
    "    training_data_y.append(dat[14])\n",
    "    test_data_x.append(dat[:14])\n",
    "    test_data_y.append(dat[14])\n",
    "    \n",
    "rfc = GaussianNB()\n",
    "rfc.fit(training_data_x, training_data_y)\n",
    "rfc.score(test_data_x, test_data_y)"
   ]
  },
  {
   "cell_type": "code",
   "execution_count": 7,
   "metadata": {
    "collapsed": true
   },
   "outputs": [],
   "source": [
    "df = pd.read_csv(tournament_data_source, header = 0)\n",
    "\n",
    "# remove the non-numeric columns\n",
    "df = df._get_numeric_data()\n",
    "\n",
    "# create a numpy array with the numeric values for input into scikit-learn\n",
    "tournament_numpy_array = df.as_matrix()"
   ]
  },
  {
   "cell_type": "code",
   "execution_count": 10,
   "metadata": {
    "collapsed": false
   },
   "outputs": [],
   "source": [
    "# do the classification and write to a csv\n",
    "output_file_name = './predictions/numerai_predictions_0023.csv'\n",
    "mean = 0\n",
    "for x in tournament_numpy_array:\n",
    "    mean += rfc.predict_proba(x[1:].reshape(1, -1))[0][1]\n",
    "mean = mean / len(tournament_numpy_array)    \n",
    "\n",
    "with open(output_file_name, 'w') as fp:\n",
    "    a = csv.writer(fp, delimiter=',')\n",
    "    data = []\n",
    "    for x in tournament_numpy_array:\n",
    "        certainty = rfc.predict_proba(x[1:].reshape(1, -1))[0][1]\n",
    "        data.append([x[0], certainty])\n",
    "    a.writerows(data)\n"
   ]
  },
  {
   "cell_type": "code",
   "execution_count": null,
   "metadata": {
    "collapsed": true
   },
   "outputs": [],
   "source": []
  }
 ],
 "metadata": {
  "kernelspec": {
   "display_name": "Python 2",
   "language": "python",
   "name": "python2"
  },
  "language_info": {
   "codemirror_mode": {
    "name": "ipython",
    "version": 2
   },
   "file_extension": ".py",
   "mimetype": "text/x-python",
   "name": "python",
   "nbconvert_exporter": "python",
   "pygments_lexer": "ipython2",
   "version": "2.7.11"
  }
 },
 "nbformat": 4,
 "nbformat_minor": 0
}
